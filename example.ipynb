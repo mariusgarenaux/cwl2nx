{
 "cells": [
  {
   "cell_type": "markdown",
   "id": "f36ecbcb",
   "metadata": {},
   "source": [
    "Run\n",
    "\n",
    "```bash\n",
    "pip install dagviz\n",
    "```\n",
    "\n",
    "for before the following cells."
   ]
  },
  {
   "cell_type": "code",
   "execution_count": 1,
   "id": "8e57aa34",
   "metadata": {},
   "outputs": [
    {
     "data": {
      "text/html": [
       "<svg baseProfile=\"full\" height=\"100%\" version=\"1.1\" viewBox=\"25.0,5.0,475.0,220.0\" width=\"100%\" xmlns=\"http://www.w3.org/2000/svg\" xmlns:ev=\"http://www.w3.org/2001/xml-events\" xmlns:xlink=\"http://www.w3.org/1999/xlink\"><defs /><g><line stroke=\"lightgrey\" stroke-dasharray=\"2\" x1=\"90.0\" x2=\"89.0\" y1=\"15.0\" y2=\"15.0\" /><line stroke=\"lightgrey\" stroke-dasharray=\"2\" x1=\"70.0\" x2=\"89.0\" y1=\"35.0\" y2=\"35.0\" /><line stroke=\"lightgrey\" stroke-dasharray=\"2\" x1=\"50.0\" x2=\"89.0\" y1=\"55.0\" y2=\"55.0\" /><line stroke=\"lightgrey\" stroke-dasharray=\"2\" x1=\"50.0\" x2=\"89.0\" y1=\"75.0\" y2=\"75.0\" /><line stroke=\"lightgrey\" stroke-dasharray=\"2\" x1=\"50.0\" x2=\"69.0\" y1=\"95.0\" y2=\"95.0\" /><line stroke=\"lightgrey\" stroke-dasharray=\"2\" x1=\"70.0\" x2=\"69.0\" y1=\"115.0\" y2=\"115.0\" /><line stroke=\"lightgrey\" stroke-dasharray=\"2\" x1=\"50.0\" x2=\"69.0\" y1=\"135.0\" y2=\"135.0\" /><line stroke=\"lightgrey\" stroke-dasharray=\"2\" x1=\"70.0\" x2=\"69.0\" y1=\"155.0\" y2=\"155.0\" /><line stroke=\"lightgrey\" stroke-dasharray=\"2\" x1=\"50.0\" x2=\"69.0\" y1=\"175.0\" y2=\"175.0\" /><line stroke=\"lightgrey\" stroke-dasharray=\"2\" x1=\"50.0\" x2=\"69.0\" y1=\"195.0\" y2=\"195.0\" /><line stroke=\"lightgrey\" stroke-dasharray=\"2\" x1=\"50.0\" x2=\"49.0\" y1=\"215.0\" y2=\"215.0\" /></g><g><line stroke=\"#53c653\" stroke-width=\"2.0\" x1=\"35.0\" x2=\"35.0\" y1=\"55.0\" y2=\"75.0\" /><line stroke=\"#c65353\" stroke-width=\"2.0\" x1=\"75.0\" x2=\"75.0\" y1=\"15.0\" y2=\"60.0\" /><line stroke=\"#53c6c6\" stroke-width=\"2.0\" x1=\"35.0\" x2=\"35.0\" y1=\"75.0\" y2=\"95.0\" /><line stroke=\"#c6c653\" stroke-width=\"2.0\" x1=\"55.0\" x2=\"55.0\" y1=\"35.0\" y2=\"115.0\" /><line stroke=\"#5353c6\" stroke-width=\"2.0\" x1=\"35.0\" x2=\"35.0\" y1=\"95.0\" y2=\"135.0\" /><line stroke=\"#c653c6\" stroke-width=\"2.0\" x1=\"55.0\" x2=\"55.0\" y1=\"115.0\" y2=\"155.0\" /><line stroke=\"#c65353\" stroke-width=\"2.0\" x1=\"35.0\" x2=\"35.0\" y1=\"135.0\" y2=\"175.0\" /><line stroke=\"#d9d98c\" stroke-width=\"2.0\" x1=\"35.0\" x2=\"35.0\" y1=\"175.0\" y2=\"195.0\" /><line stroke=\"#d98c8c\" stroke-width=\"2.0\" x1=\"55.0\" x2=\"55.0\" y1=\"155.0\" y2=\"180.0\" /><line stroke=\"#8cd98c\" stroke-width=\"2.0\" x1=\"35.0\" x2=\"35.0\" y1=\"195.0\" y2=\"215.0\" /></g><g><line stroke=\"white\" stroke-width=\"6.0\" x1=\"35.0\" x2=\"60.0\" y1=\"75.0\" y2=\"75.0\" /><line stroke=\"white\" stroke-width=\"6.0\" x1=\"50.0\" x2=\"55.0\" y1=\"115.0\" y2=\"115.0\" /><line stroke=\"white\" stroke-width=\"6.0\" x1=\"35.0\" x2=\"40.0\" y1=\"195.0\" y2=\"195.0\" /></g><g><path d=\"M 75.0,60.0 a15.0,15.0 0 0,1 -15.0,15.0\" fill=\"none\" stroke=\"#c65353\" stroke-width=\"2.0\" /><line stroke=\"#c65353\" stroke-width=\"2.0\" x1=\"35.0\" x2=\"60.0\" y1=\"75.0\" y2=\"75.0\" /><path d=\"M 35.0,100.0 a15.0,15.0 0 0,0 15.0,15.0\" fill=\"none\" stroke=\"#5353c6\" stroke-width=\"2.0\" /><line stroke=\"#5353c6\" stroke-width=\"2.0\" x1=\"50.0\" x2=\"55.0\" y1=\"115.0\" y2=\"115.0\" /><path d=\"M 55.0,180.0 a15.0,15.0 0 0,1 -15.0,15.0\" fill=\"none\" stroke=\"#d98c8c\" stroke-width=\"2.0\" /><line stroke=\"#d98c8c\" stroke-width=\"2.0\" x1=\"35.0\" x2=\"40.0\" y1=\"195.0\" y2=\"195.0\" /></g><g><circle cx=\"75.0\" cy=\"15.0\" fill=\"#c65353\" id=\"Ninput_file_1json\" r=\"6.0\" stroke=\"white\" stroke-width=\"2.0\" /><text dominant-baseline=\"middle\" font-family=\"sans-serif\" font-size=\"inherit\" x=\"95.0\" y=\"15.0\">input_file_1.json</text><circle cx=\"55.0\" cy=\"35.0\" fill=\"#c6c653\" id=\"Nparameterpy\" r=\"6.0\" stroke=\"white\" stroke-width=\"2.0\" /><text dominant-baseline=\"middle\" font-family=\"sans-serif\" font-size=\"inherit\" x=\"95.0\" y=\"35.0\">parameter.py</text><circle cx=\"35.0\" cy=\"55.0\" fill=\"#53c653\" id=\"Nconfigyaml\" r=\"6.0\" stroke=\"white\" stroke-width=\"2.0\" /><text dominant-baseline=\"middle\" font-family=\"sans-serif\" font-size=\"inherit\" x=\"95.0\" y=\"55.0\">config.yaml</text><circle cx=\"35.0\" cy=\"75.0\" fill=\"#53c6c6\" id=\"Ninit_task\" r=\"6.0\" stroke=\"white\" stroke-width=\"2.0\" /><text dominant-baseline=\"middle\" font-family=\"sans-serif\" font-size=\"inherit\" x=\"95.0\" y=\"75.0\">init_task</text><circle cx=\"35.0\" cy=\"95.0\" fill=\"#5353c6\" id=\"Ninit_taskinitialized_datasetjson\" r=\"6.0\" stroke=\"white\" stroke-width=\"2.0\" /><text dominant-baseline=\"middle\" font-family=\"sans-serif\" font-size=\"inherit\" x=\"75.0\" y=\"95.0\">init_task/initialized_dataset.json</text><circle cx=\"55.0\" cy=\"115.0\" fill=\"#c653c6\" id=\"Ninter_task_1\" r=\"6.0\" stroke=\"white\" stroke-width=\"2.0\" /><text dominant-baseline=\"middle\" font-family=\"sans-serif\" font-size=\"inherit\" x=\"75.0\" y=\"115.0\">inter_task_1</text><circle cx=\"35.0\" cy=\"135.0\" fill=\"#c65353\" id=\"Ninter_task_2\" r=\"6.0\" stroke=\"white\" stroke-width=\"2.0\" /><text dominant-baseline=\"middle\" font-family=\"sans-serif\" font-size=\"inherit\" x=\"75.0\" y=\"135.0\">inter_task_2</text><circle cx=\"55.0\" cy=\"155.0\" fill=\"#d98c8c\" id=\"Ninter_task_1output_inter_1\" r=\"6.0\" stroke=\"white\" stroke-width=\"2.0\" /><text dominant-baseline=\"middle\" font-family=\"sans-serif\" font-size=\"inherit\" x=\"75.0\" y=\"155.0\">inter_task_1/output_inter_1</text><circle cx=\"35.0\" cy=\"175.0\" fill=\"#d9d98c\" id=\"Ninter_task_2output_inter_2\" r=\"6.0\" stroke=\"white\" stroke-width=\"2.0\" /><text dominant-baseline=\"middle\" font-family=\"sans-serif\" font-size=\"inherit\" x=\"75.0\" y=\"175.0\">inter_task_2/output_inter_2</text><circle cx=\"35.0\" cy=\"195.0\" fill=\"#8cd98c\" id=\"Nend_task\" r=\"6.0\" stroke=\"white\" stroke-width=\"2.0\" /><text dominant-baseline=\"middle\" font-family=\"sans-serif\" font-size=\"inherit\" x=\"75.0\" y=\"195.0\">end_task</text><circle cx=\"35.0\" cy=\"215.0\" fill=\"#8cd9d9\" id=\"Nwf_output\" r=\"6.0\" stroke=\"white\" stroke-width=\"2.0\" /><text dominant-baseline=\"middle\" font-family=\"sans-serif\" font-size=\"inherit\" x=\"55.0\" y=\"215.0\">wf_output</text></g></svg>"
      ],
      "text/plain": [
       "<dagviz.Metro at 0x10627d820>"
      ]
     },
     "execution_count": 1,
     "metadata": {},
     "output_type": "execute_result"
    }
   ],
   "source": [
    "from cwl2nx import CWLToNetworkxConnector\n",
    "import dagviz\n",
    "import networkx as nx\n",
    "import os\n",
    "\n",
    "dir = \"workflow_example.cwl.yaml\"\n",
    "connector = CWLToNetworkxConnector(dir)\n",
    "dag = connector.convert_to_networkx()\n",
    "\n",
    "# to shorten the names of cwl objects\n",
    "to_drop = f\"file://{os.getcwd()}/#\"\n",
    "mapping = {each_node: each_node.replace(to_drop, \"\") for each_node in dag.nodes}\n",
    "dag = nx.relabel_nodes(dag, mapping=mapping)\n",
    "\n",
    "dagviz.Metro(dag) # github tree dag style"
   ]
  },
  {
   "cell_type": "code",
   "execution_count": 2,
   "id": "4a24c84a",
   "metadata": {},
   "outputs": [
    {
     "data": {
      "application/javascript": "\nelement.html('<style id=\"css\">text {  font-weight: 300;  font-family: sans-serif;  font-size: 14px;}.node rect {  stroke: #999;  fill: #fff;  stroke-width: 1.5px;}.edgePath path {  stroke: #333;  stroke-width: 1.5px;}</style>');\nrequire.config({\n    paths: {\n        d3: 'https://d3js.org/d3.v5.min',\n        dagreD3: 'https://cdnjs.cloudflare.com/ajax/libs/dagre-d3/0.6.4/dagre-d3.min'\n    }\n});\nrequire([\"d3\", \"dagreD3\"], function(d3, dag) {\n    let g = new dag.graphlib.Graph().setGraph({});\ng.setNode(\"init_task\", { \"label\": \"init_task\"});\ng.setNode(\"inter_task_1\", { \"label\": \"inter_task_1\"});\ng.setNode(\"inter_task_2\", { \"label\": \"inter_task_2\"});\ng.setNode(\"end_task\", { \"label\": \"end_task\"});\ng.setNode(\"input_file_1.json\", { \"label\": \"input_file_1.json\"});\ng.setNode(\"parameter.py\", { \"label\": \"parameter.py\"});\ng.setNode(\"config.yaml\", { \"label\": \"config.yaml\"});\ng.setNode(\"wf_output\", { \"label\": \"wf_output\"});\ng.setNode(\"init_task/initialized_dataset.json\", { \"label\": \"init_task/initialized_dataset.json\"});\ng.setNode(\"inter_task_1/output_inter_1\", { \"label\": \"inter_task_1/output_inter_1\"});\ng.setNode(\"inter_task_2/output_inter_2\", { \"label\": \"inter_task_2/output_inter_2\"});\ng.setEdge(\"init_task\",\"init_task/initialized_dataset.json\", {\"label\": \"\"});\ng.setEdge(\"inter_task_1\",\"inter_task_1/output_inter_1\", {\"label\": \"\"});\ng.setEdge(\"inter_task_2\",\"inter_task_2/output_inter_2\", {\"label\": \"\"});\ng.setEdge(\"end_task\",\"wf_output\", {\"label\": \"\"});\ng.setEdge(\"input_file_1.json\",\"init_task\", {\"label\": \"\"});\ng.setEdge(\"parameter.py\",\"inter_task_1\", {\"label\": \"\"});\ng.setEdge(\"config.yaml\",\"init_task\", {\"label\": \"\"});\ng.setEdge(\"init_task/initialized_dataset.json\",\"inter_task_1\", {\"label\": \"\"});\ng.setEdge(\"init_task/initialized_dataset.json\",\"inter_task_2\", {\"label\": \"\"});\ng.setEdge(\"inter_task_1/output_inter_1\",\"end_task\", {\"label\": \"\"});\ng.setEdge(\"inter_task_2/output_inter_2\",\"end_task\", {\"label\": \"\"});\n    let elem = d3.select(element.get(0))\n    let svg = elem.append(\"svg\");\n    let inner = svg.append(\"g\")\n    let render = new dag.render();\n    render(inner, g);\n    // Set up zoom support\n    var zoom = d3.zoom().on(\"zoom\", function() {\n        inner.attr(\"transform\", d3.event.transform);\n    });\n    svg.call(zoom);\n    // Realign the graph, edges may have x<0\n    svg.call(zoom.transform, d3.zoomIdentity.translate(g.graph().width/4.0, 20).scale(1));\n    svg.attr(\"height\", g.graph().height + 40);\n    svg.attr(\"width\", g.graph().width*1.5 + 40);\n});\n",
      "text/plain": [
       "<dagviz.dagre.Dagre at 0x106ffe2d0>"
      ]
     },
     "execution_count": 2,
     "metadata": {},
     "output_type": "execute_result"
    }
   ],
   "source": [
    "dagviz.Dagre(dag)"
   ]
  },
  {
   "cell_type": "code",
   "execution_count": null,
   "id": "844833ff",
   "metadata": {},
   "outputs": [],
   "source": []
  }
 ],
 "metadata": {
  "kernelspec": {
   "display_name": ".venv",
   "language": "python",
   "name": "python3"
  },
  "language_info": {
   "codemirror_mode": {
    "name": "ipython",
    "version": 3
   },
   "file_extension": ".py",
   "mimetype": "text/x-python",
   "name": "python",
   "nbconvert_exporter": "python",
   "pygments_lexer": "ipython3",
   "version": "3.12.11"
  }
 },
 "nbformat": 4,
 "nbformat_minor": 5
}
